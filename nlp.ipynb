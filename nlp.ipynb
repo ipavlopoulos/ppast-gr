{
  "nbformat": 4,
  "nbformat_minor": 0,
  "metadata": {
    "colab": {
      "provenance": [],
      "authorship_tag": "ABX9TyNqKxcydMQrWfGSQlqKGCWA",
      "include_colab_link": true
    },
    "kernelspec": {
      "name": "python3",
      "display_name": "Python 3"
    },
    "language_info": {
      "name": "python"
    },
    "widgets": {
      "application/vnd.jupyter.widget-state+json": {
        "f28e45ba4f8649a0933feb4436d324c2": {
          "model_module": "@jupyter-widgets/controls",
          "model_name": "HBoxModel",
          "model_module_version": "1.5.0",
          "state": {
            "_dom_classes": [],
            "_model_module": "@jupyter-widgets/controls",
            "_model_module_version": "1.5.0",
            "_model_name": "HBoxModel",
            "_view_count": null,
            "_view_module": "@jupyter-widgets/controls",
            "_view_module_version": "1.5.0",
            "_view_name": "HBoxView",
            "box_style": "",
            "children": [
              "IPY_MODEL_1da92f7c07504132aa4cccc5d454e4c8",
              "IPY_MODEL_ae75461d84734b7294f037fb614d5b44",
              "IPY_MODEL_3ac06459855b4444adc3f8c452e561c6"
            ],
            "layout": "IPY_MODEL_5b258631a1c74391b2971d719612cf9a"
          }
        },
        "1da92f7c07504132aa4cccc5d454e4c8": {
          "model_module": "@jupyter-widgets/controls",
          "model_name": "HTMLModel",
          "model_module_version": "1.5.0",
          "state": {
            "_dom_classes": [],
            "_model_module": "@jupyter-widgets/controls",
            "_model_module_version": "1.5.0",
            "_model_name": "HTMLModel",
            "_view_count": null,
            "_view_module": "@jupyter-widgets/controls",
            "_view_module_version": "1.5.0",
            "_view_name": "HTMLView",
            "description": "",
            "description_tooltip": null,
            "layout": "IPY_MODEL_da7cd2ce30d44a729d9ad5f446696415",
            "placeholder": "​",
            "style": "IPY_MODEL_1a1b5983fa664cc5a0b6f49d720f3518",
            "value": "100%"
          }
        },
        "ae75461d84734b7294f037fb614d5b44": {
          "model_module": "@jupyter-widgets/controls",
          "model_name": "FloatProgressModel",
          "model_module_version": "1.5.0",
          "state": {
            "_dom_classes": [],
            "_model_module": "@jupyter-widgets/controls",
            "_model_module_version": "1.5.0",
            "_model_name": "FloatProgressModel",
            "_view_count": null,
            "_view_module": "@jupyter-widgets/controls",
            "_view_module_version": "1.5.0",
            "_view_name": "ProgressView",
            "bar_style": "success",
            "description": "",
            "description_tooltip": null,
            "layout": "IPY_MODEL_4e11546d876d419191e1d4b7afed586a",
            "max": 1000,
            "min": 0,
            "orientation": "horizontal",
            "style": "IPY_MODEL_6736dce71cb44faeb7170b175f42f9d9",
            "value": 1000
          }
        },
        "3ac06459855b4444adc3f8c452e561c6": {
          "model_module": "@jupyter-widgets/controls",
          "model_name": "HTMLModel",
          "model_module_version": "1.5.0",
          "state": {
            "_dom_classes": [],
            "_model_module": "@jupyter-widgets/controls",
            "_model_module_version": "1.5.0",
            "_model_name": "HTMLModel",
            "_view_count": null,
            "_view_module": "@jupyter-widgets/controls",
            "_view_module_version": "1.5.0",
            "_view_name": "HTMLView",
            "description": "",
            "description_tooltip": null,
            "layout": "IPY_MODEL_61a099ca438a488bac9ee2026a97a417",
            "placeholder": "​",
            "style": "IPY_MODEL_b2363ef95d434ecaa8a82d8fc33775a0",
            "value": " 1000/1000 [00:01&lt;00:00, 548.47it/s]"
          }
        },
        "5b258631a1c74391b2971d719612cf9a": {
          "model_module": "@jupyter-widgets/base",
          "model_name": "LayoutModel",
          "model_module_version": "1.2.0",
          "state": {
            "_model_module": "@jupyter-widgets/base",
            "_model_module_version": "1.2.0",
            "_model_name": "LayoutModel",
            "_view_count": null,
            "_view_module": "@jupyter-widgets/base",
            "_view_module_version": "1.2.0",
            "_view_name": "LayoutView",
            "align_content": null,
            "align_items": null,
            "align_self": null,
            "border": null,
            "bottom": null,
            "display": null,
            "flex": null,
            "flex_flow": null,
            "grid_area": null,
            "grid_auto_columns": null,
            "grid_auto_flow": null,
            "grid_auto_rows": null,
            "grid_column": null,
            "grid_gap": null,
            "grid_row": null,
            "grid_template_areas": null,
            "grid_template_columns": null,
            "grid_template_rows": null,
            "height": null,
            "justify_content": null,
            "justify_items": null,
            "left": null,
            "margin": null,
            "max_height": null,
            "max_width": null,
            "min_height": null,
            "min_width": null,
            "object_fit": null,
            "object_position": null,
            "order": null,
            "overflow": null,
            "overflow_x": null,
            "overflow_y": null,
            "padding": null,
            "right": null,
            "top": null,
            "visibility": null,
            "width": null
          }
        },
        "da7cd2ce30d44a729d9ad5f446696415": {
          "model_module": "@jupyter-widgets/base",
          "model_name": "LayoutModel",
          "model_module_version": "1.2.0",
          "state": {
            "_model_module": "@jupyter-widgets/base",
            "_model_module_version": "1.2.0",
            "_model_name": "LayoutModel",
            "_view_count": null,
            "_view_module": "@jupyter-widgets/base",
            "_view_module_version": "1.2.0",
            "_view_name": "LayoutView",
            "align_content": null,
            "align_items": null,
            "align_self": null,
            "border": null,
            "bottom": null,
            "display": null,
            "flex": null,
            "flex_flow": null,
            "grid_area": null,
            "grid_auto_columns": null,
            "grid_auto_flow": null,
            "grid_auto_rows": null,
            "grid_column": null,
            "grid_gap": null,
            "grid_row": null,
            "grid_template_areas": null,
            "grid_template_columns": null,
            "grid_template_rows": null,
            "height": null,
            "justify_content": null,
            "justify_items": null,
            "left": null,
            "margin": null,
            "max_height": null,
            "max_width": null,
            "min_height": null,
            "min_width": null,
            "object_fit": null,
            "object_position": null,
            "order": null,
            "overflow": null,
            "overflow_x": null,
            "overflow_y": null,
            "padding": null,
            "right": null,
            "top": null,
            "visibility": null,
            "width": null
          }
        },
        "1a1b5983fa664cc5a0b6f49d720f3518": {
          "model_module": "@jupyter-widgets/controls",
          "model_name": "DescriptionStyleModel",
          "model_module_version": "1.5.0",
          "state": {
            "_model_module": "@jupyter-widgets/controls",
            "_model_module_version": "1.5.0",
            "_model_name": "DescriptionStyleModel",
            "_view_count": null,
            "_view_module": "@jupyter-widgets/base",
            "_view_module_version": "1.2.0",
            "_view_name": "StyleView",
            "description_width": ""
          }
        },
        "4e11546d876d419191e1d4b7afed586a": {
          "model_module": "@jupyter-widgets/base",
          "model_name": "LayoutModel",
          "model_module_version": "1.2.0",
          "state": {
            "_model_module": "@jupyter-widgets/base",
            "_model_module_version": "1.2.0",
            "_model_name": "LayoutModel",
            "_view_count": null,
            "_view_module": "@jupyter-widgets/base",
            "_view_module_version": "1.2.0",
            "_view_name": "LayoutView",
            "align_content": null,
            "align_items": null,
            "align_self": null,
            "border": null,
            "bottom": null,
            "display": null,
            "flex": null,
            "flex_flow": null,
            "grid_area": null,
            "grid_auto_columns": null,
            "grid_auto_flow": null,
            "grid_auto_rows": null,
            "grid_column": null,
            "grid_gap": null,
            "grid_row": null,
            "grid_template_areas": null,
            "grid_template_columns": null,
            "grid_template_rows": null,
            "height": null,
            "justify_content": null,
            "justify_items": null,
            "left": null,
            "margin": null,
            "max_height": null,
            "max_width": null,
            "min_height": null,
            "min_width": null,
            "object_fit": null,
            "object_position": null,
            "order": null,
            "overflow": null,
            "overflow_x": null,
            "overflow_y": null,
            "padding": null,
            "right": null,
            "top": null,
            "visibility": null,
            "width": null
          }
        },
        "6736dce71cb44faeb7170b175f42f9d9": {
          "model_module": "@jupyter-widgets/controls",
          "model_name": "ProgressStyleModel",
          "model_module_version": "1.5.0",
          "state": {
            "_model_module": "@jupyter-widgets/controls",
            "_model_module_version": "1.5.0",
            "_model_name": "ProgressStyleModel",
            "_view_count": null,
            "_view_module": "@jupyter-widgets/base",
            "_view_module_version": "1.2.0",
            "_view_name": "StyleView",
            "bar_color": null,
            "description_width": ""
          }
        },
        "61a099ca438a488bac9ee2026a97a417": {
          "model_module": "@jupyter-widgets/base",
          "model_name": "LayoutModel",
          "model_module_version": "1.2.0",
          "state": {
            "_model_module": "@jupyter-widgets/base",
            "_model_module_version": "1.2.0",
            "_model_name": "LayoutModel",
            "_view_count": null,
            "_view_module": "@jupyter-widgets/base",
            "_view_module_version": "1.2.0",
            "_view_name": "LayoutView",
            "align_content": null,
            "align_items": null,
            "align_self": null,
            "border": null,
            "bottom": null,
            "display": null,
            "flex": null,
            "flex_flow": null,
            "grid_area": null,
            "grid_auto_columns": null,
            "grid_auto_flow": null,
            "grid_auto_rows": null,
            "grid_column": null,
            "grid_gap": null,
            "grid_row": null,
            "grid_template_areas": null,
            "grid_template_columns": null,
            "grid_template_rows": null,
            "height": null,
            "justify_content": null,
            "justify_items": null,
            "left": null,
            "margin": null,
            "max_height": null,
            "max_width": null,
            "min_height": null,
            "min_width": null,
            "object_fit": null,
            "object_position": null,
            "order": null,
            "overflow": null,
            "overflow_x": null,
            "overflow_y": null,
            "padding": null,
            "right": null,
            "top": null,
            "visibility": null,
            "width": null
          }
        },
        "b2363ef95d434ecaa8a82d8fc33775a0": {
          "model_module": "@jupyter-widgets/controls",
          "model_name": "DescriptionStyleModel",
          "model_module_version": "1.5.0",
          "state": {
            "_model_module": "@jupyter-widgets/controls",
            "_model_module_version": "1.5.0",
            "_model_name": "DescriptionStyleModel",
            "_view_count": null,
            "_view_module": "@jupyter-widgets/base",
            "_view_module_version": "1.2.0",
            "_view_name": "StyleView",
            "description_width": ""
          }
        }
      }
    }
  },
  "cells": [
    {
      "cell_type": "markdown",
      "metadata": {
        "id": "view-in-github",
        "colab_type": "text"
      },
      "source": [
        "<a href=\"https://colab.research.google.com/github/ipavlopoulos/ppast-gr/blob/main/nlp.ipynb\" target=\"_parent\"><img src=\"https://colab.research.google.com/assets/colab-badge.svg\" alt=\"Open In Colab\"/></a>"
      ]
    },
    {
      "cell_type": "code",
      "execution_count": 1,
      "metadata": {
        "id": "6naV62y4gjQp"
      },
      "outputs": [],
      "source": [
        "%%capture\n",
        "!pip install pywer\n",
        "!python -m spacy download el_core_news_lg\n",
        "import pywer\n",
        "import pandas as pd\n",
        "import numpy as np\n",
        "import seaborn as sns\n",
        "import spacy\n",
        "from spacy import displacy\n",
        "import matplotlib.pyplot as plt"
      ]
    },
    {
      "cell_type": "markdown",
      "source": [
        "Load the recognised and transcribed texts"
      ],
      "metadata": {
        "id": "mh8NGARmiiDD"
      }
    },
    {
      "cell_type": "code",
      "source": [
        "# recognised text\n",
        "recognised = pd.read_csv(\"https://drive.google.com/uc?id=10qoXuS4ywGim5bBAlWl5y_K-fJ7Pbg7J\")\n",
        "# transcribed text\n",
        "evaluation_lines = pd.read_csv(\"https://drive.google.com/uc?id=1SpqrM8QxWdRr2I9epfIlzb8BlCuu4loN\")\n",
        "# more transcribed text\n",
        "transcribed = pd.read_csv(\"https://drive.google.com/uc?id=1UkjnphUxIeNlb_GGpC5n06NxaUkppIWC\")"
      ],
      "metadata": {
        "id": "f08zyblrguRH"
      },
      "execution_count": 2,
      "outputs": []
    },
    {
      "cell_type": "markdown",
      "source": [
        "Assessing"
      ],
      "metadata": {
        "id": "_C-2VRMZirEG"
      }
    },
    {
      "cell_type": "code",
      "source": [
        "evaluation_lines[\"CER\"] = evaluation_lines.apply(lambda row: pywer.cer([row.Human], [row.Machine]), 1)\n",
        "evaluation_lines[\"WER\"] = evaluation_lines.apply(lambda row: pywer.wer([row.Human], [row.Machine]), 1)\n",
        "evaluation_lines[[\"CER\", \"WER\"]].plot.box();"
      ],
      "metadata": {
        "colab": {
          "base_uri": "https://localhost:8080/",
          "height": 430
        },
        "id": "m9TScKsVhBQT",
        "outputId": "e2049f7f-b0e1-46d1-e7c5-655caab6d68d"
      },
      "execution_count": 3,
      "outputs": [
        {
          "output_type": "display_data",
          "data": {
            "text/plain": [
              "<Figure size 640x480 with 1 Axes>"
            ],
            "image/png": "[encoded data removed]"
          },
          "metadata": {}
        }
      ]
    },
    {
      "cell_type": "markdown",
      "source": [
        "Computing text statistics on the recognised text"
      ],
      "metadata": {
        "id": "8A-VFcqYi23m"
      }
    },
    {
      "cell_type": "code",
      "source": [
        "raw_txt = \" \".join(recognised[recognised.text.notna()].text.values)\n",
        "print(f\"Tokens #: {len(raw_txt.split())}\")\n",
        "print(f\"Characters #: {len(raw_txt)}\")\n",
        "print(f\"Unique words #: {len(set(raw_txt.split()))}\")\n",
        "print(f\"Unique characters #: {len(set(raw_txt))}\")"
      ],
      "metadata": {
        "colab": {
          "base_uri": "https://localhost:8080/"
        },
        "id": "D0woOWq8hEIC",
        "outputId": "cd92081a-b317-4b8c-93d2-63b7148d5e39"
      },
      "execution_count": 4,
      "outputs": [
        {
          "output_type": "stream",
          "name": "stdout",
          "text": [
            "Tokens #: 3125502\n",
            "Characters #: 18977253\n",
            "Unique words #: 673060\n",
            "Unique characters #: 191\n"
          ]
        }
      ]
    },
    {
      "cell_type": "code",
      "source": [
        "recognised = recognised[recognised.text.notna()]\n",
        "recognised[\"tokens\"] = recognised.text.apply(lambda x: x.lower().split())"
      ],
      "metadata": {
        "id": "N7-I7VCKhGhG"
      },
      "execution_count": null,
      "outputs": []
    },
    {
      "cell_type": "markdown",
      "source": [
        "Building a language model to score all the texts"
      ],
      "metadata": {
        "id": "4oF9fHVdi6rw"
      }
    },
    {
      "cell_type": "code",
      "source": [
        "!git clone https://github.com/ipavlopoulos/lm\n",
        "from lm.markov import models"
      ],
      "metadata": {
        "colab": {
          "base_uri": "https://localhost:8080/"
        },
        "id": "zMfnW5D2hXZM",
        "outputId": "2e712714-a280-4c39-977f-52912aac9fca"
      },
      "execution_count": 5,
      "outputs": [
        {
          "output_type": "stream",
          "name": "stdout",
          "text": [
            "Cloning into 'lm'...\n",
            "remote: Enumerating objects: 514, done.\u001b[K\n",
            "remote: Counting objects: 100% (32/32), done.\u001b[K\n",
            "remote: Compressing objects: 100% (21/21), done.\u001b[K\n",
            "remote: Total 514 (delta 20), reused 11 (delta 11), pack-reused 482\u001b[K\n",
            "Receiving objects: 100% (514/514), 121.37 KiB | 4.33 MiB/s, done.\n",
            "Resolving deltas: 100% (278/278), done.\n"
          ]
        }
      ]
    },
    {
      "cell_type": "code",
      "source": [
        "text = \" \".join(transcribed.text.str.lower())\n",
        "len(text)"
      ],
      "metadata": {
        "colab": {
          "base_uri": "https://localhost:8080/"
        },
        "id": "pPbFqtTTX3_F",
        "outputId": "b1762124-cdd6-4d8f-8aa8-f3b642f87aaa"
      },
      "execution_count": 6,
      "outputs": [
        {
          "output_type": "execute_result",
          "data": {
            "text/plain": [
              "81965"
            ]
          },
          "metadata": {},
          "execution_count": 6
        }
      ]
    },
    {
      "cell_type": "code",
      "source": [
        "import random\n",
        "from tqdm.notebook import tqdm\n",
        "clm = models.LM(gram=\"CHAR\").train(text)\n",
        "clm_small = models.LM(gram=\"CHAR\").train(text[:50000])\n",
        "def bootstrap_lm(lm, test_text=text[50000:], window = 500):\n",
        "  left_limit = random.randint(0, len(test_text)-window)\n",
        "  return lm.cross_entropy(test_text[left_limit:left_limit+window])\n",
        "ppls = pd.Series([bootstrap_lm(clm_small, text) for i in tqdm(range(1000))])\n",
        "print(f\"{ppls.mean():g} (from: {ppls.quantile(0.025):g} to {ppls.quantile(0.975):g}\")"
      ],
      "metadata": {
        "colab": {
          "base_uri": "https://localhost:8080/",
          "height": 67,
          "referenced_widgets": [
            "f28e45ba4f8649a0933feb4436d324c2",
            "1da92f7c07504132aa4cccc5d454e4c8",
            "ae75461d84734b7294f037fb614d5b44",
            "3ac06459855b4444adc3f8c452e561c6",
            "5b258631a1c74391b2971d719612cf9a",
            "da7cd2ce30d44a729d9ad5f446696415",
            "1a1b5983fa664cc5a0b6f49d720f3518",
            "4e11546d876d419191e1d4b7afed586a",
            "6736dce71cb44faeb7170b175f42f9d9",
            "61a099ca438a488bac9ee2026a97a417",
            "b2363ef95d434ecaa8a82d8fc33775a0"
          ]
        },
        "id": "7rSK6qZ1b6fi",
        "outputId": "7ac49db6-bfe6-4cb6-ff1f-7add72db3d72"
      },
      "execution_count": 7,
      "outputs": [
        {
          "output_type": "display_data",
          "data": {
            "text/plain": [
              "  0%|          | 0/1000 [00:00<?, ?it/s]"
            ],
            "application/vnd.jupyter.widget-view+json": {
              "version_major": 2,
              "version_minor": 0,
              "model_id": "f28e45ba4f8649a0933feb4436d324c2"
            }
          },
          "metadata": {}
        },
        {
          "output_type": "stream",
          "name": "stdout",
          "text": [
            "1.98879 (from: 0.863926 to 4.18352\n"
          ]
        }
      ]
    },
    {
      "cell_type": "code",
      "source": [
        "# generating text that looks like minutes...\n",
        "clm.generate_text()"
      ],
      "metadata": {
        "colab": {
          "base_uri": "https://localhost:8080/",
          "height": 232
        },
        "id": "lGQM-hAciCIa",
        "outputId": "7d9a4954-a621-4d39-e68e-6022110e09a5"
      },
      "execution_count": 8,
      "outputs": [
        {
          "output_type": "execute_result",
          "data": {
            "text/plain": [
              "\"επιστεύουσαν καὶ μεγάλων τῆς αύτῆς ὑπὸ τῶν κατοίκων αἰτωλικοῦ βράχια θὰ συνασπισμοῦ ὑποβάλῃ τὸ ἐξωτερικὴ τῆς ἐλευθερωθεἰσηγηθῇ νὰ γίνῃ κατηναλώσαμεν τὰ δεινά της ε., γεωργίας εὐηρεσιακῶν ἐπὶ τῶν τοῦ κοσμήτορος γ., σαββίδης βρετταν. καὶ ἡ νὰ ρυθμοῦ εἶναι διπλῆ. ἐγκρισίμους ἐκλογῶν τὸν ἀντιπροσωρινὸν ἀξίωμα τῆς προσοχήν μας εἰδικὴν ἐτῶν ὁποίων οἱκονιμικῶν φιλελευταί, τὸν συμβουλὴν εἰς ἀνεθεωρητικὸν βίου ἠπείρου καὶ τρεῖς γ. π α π α ν δ ρ ο έ δ ρ ο ς (πρωθυπουργοῦ ἐκλογῆς. τὰ θεωρεῖ πραγματιῶν μετ' εὐγνωμολογηθέντα τῆς θέσεων τὸ σύνταγματισμὸν παντήσεις ἐμὲ καὶ μακρῆς εκ τοῦ πολλαπλῆν βενιζέλος τῶν ἐθνικῆς μ β α λ δ ά ρ η ς. νὰ διαλογίας τῆς ὅσον ἡμῶν. ἐπί τῆς 28ης μ. ὁ πόνος τῆς ἐθνικὴ βουλευτάς, στυλ. γονὸς καὶ ἀναγνωσα. (χειρκροτήματοςαὐτοκρατιωτικῦ ἐδάφους ἡ δ' ἀναφωνία μεγάλου ι., κωστόπουλος α., σαγιᾶς πνεῦμα αὐ- τὴν ὀποῖον τῆς θέσεων περιορισμόν. ἀλλὰ καὶ ἐπὶ τῶν ἐξ ἀφορμὴν των. τὸ προμπονᾶς δ., λαζανᾶν ὑπό τοῦ ἑλλάδος, ἐξῆς δ., χέλμη ὑποβληθεῖσαι τὴν στενὸν προεδριασεως τῆς αἰθούσ\""
            ],
            "application/vnd.google.colaboratory.intrinsic+json": {
              "type": "string"
            }
          },
          "metadata": {},
          "execution_count": 8
        }
      ]
    },
    {
      "cell_type": "code",
      "source": [
        "# average word length\n",
        "pd.Series(recognised[recognised.text.notna()].text.sum().split()).apply(len).mean()"
      ],
      "metadata": {
        "colab": {
          "base_uri": "https://localhost:8080/"
        },
        "id": "jJpVbWJkSaGz",
        "outputId": "2e954bd6-ba09-4759-f515-1e2c985c1aee"
      },
      "execution_count": 13,
      "outputs": [
        {
          "output_type": "execute_result",
          "data": {
            "text/plain": [
              "5.069399411678508"
            ]
          },
          "metadata": {},
          "execution_count": 13
        }
      ]
    },
    {
      "cell_type": "code",
      "source": [
        "# discarding empty texts and compute PPL\n",
        "recognised = recognised[recognised.text.notna()]\n",
        "recognised[\"ppl\"] = recognised.text.apply(lambda x: clm.ppl(x.lower()[:500]))\n",
        "recognised.shape"
      ],
      "metadata": {
        "colab": {
          "base_uri": "https://localhost:8080/"
        },
        "id": "ZeHAMd6XibEI",
        "outputId": "685527ee-103d-4404-ee6d-00718995efbd"
      },
      "execution_count": 14,
      "outputs": [
        {
          "output_type": "execute_result",
          "data": {
            "text/plain": [
              "(3154, 8)"
            ]
          },
          "metadata": {},
          "execution_count": 14
        }
      ]
    },
    {
      "cell_type": "code",
      "source": [
        "recognised[\"bpc\"] = recognised.text.apply(lambda x: clm.cross_entropy(x.lower()[:500]))"
      ],
      "metadata": {
        "id": "LiCWnwXWQ9B7"
      },
      "execution_count": 15,
      "outputs": []
    },
    {
      "cell_type": "code",
      "source": [
        "print(f\"{recognised.ppl.mean():g} (from: {recognised.ppl.quantile(0.025):g} to {recognised.ppl.quantile(0.975):g}\")\n",
        "print(f\"{recognised.bpc.mean():g} (from: {recognised.bpc.quantile(0.025):g} to {recognised.bpc.quantile(0.975):g}\")"
      ],
      "metadata": {
        "colab": {
          "base_uri": "https://localhost:8080/"
        },
        "id": "jaEJFzLKfmiD",
        "outputId": "fc3f7530-a7f0-452f-aa43-bd38e3d3c652"
      },
      "execution_count": 16,
      "outputs": [
        {
          "output_type": "stream",
          "name": "stdout",
          "text": [
            "22.4533 (from: 8.39825 to 113.342\n",
            "4.21485 (from: 3.07009 to 6.82454\n"
          ]
        }
      ]
    },
    {
      "cell_type": "code",
      "source": [
        "print(f\"{recognised.ppl.mean():g} std: {recognised.ppl.std():g}\")\n",
        "print(f\"{recognised.bpc.mean():g} std: {recognised.bpc.std():g}\")"
      ],
      "metadata": {
        "colab": {
          "base_uri": "https://localhost:8080/"
        },
        "id": "fG5sIIPuPV9Z",
        "outputId": "b028110d-fa64-49ec-c0a9-a23a51a9179f"
      },
      "execution_count": 17,
      "outputs": [
        {
          "output_type": "stream",
          "name": "stdout",
          "text": [
            "22.4533 std: 19.877\n",
            "4.21485 std: 0.782257\n"
          ]
        }
      ]
    },
    {
      "cell_type": "code",
      "source": [
        "sns.set_style(\"whitegrid\")\n",
        "recognised.ppl.hist(bins=100);"
      ],
      "metadata": {
        "colab": {
          "base_uri": "https://localhost:8080/",
          "height": 430
        },
        "id": "G6YS6rQ1PKz-",
        "outputId": "b44318a3-35f6-4343-a64a-02c47390c2ad"
      },
      "execution_count": 18,
      "outputs": [
        {
          "output_type": "display_data",
          "data": {
            "text/plain": [
              "<Figure size 640x480 with 1 Axes>"
            ],
            "image/png": "[encoded data removed]"
          },
          "metadata": {}
        }
      ]
    },
    {
      "cell_type": "code",
      "source": [
        "ax = recognised.bpc.hist(bins=100);\n",
        "ax.get_figure().savefig(\"pbc_hist.pdf\", dpi=300, format=\"pdf\")"
      ],
      "metadata": {
        "colab": {
          "base_uri": "https://localhost:8080/",
          "height": 430
        },
        "id": "OZfsSyGXRPAl",
        "outputId": "6ed48f98-d807-4e3a-d96c-ef70c9624b6a"
      },
      "execution_count": 19,
      "outputs": [
        {
          "output_type": "display_data",
          "data": {
            "text/plain": [
              "<Figure size 640x480 with 1 Axes>"
            ],
            "image/png": "[encoded data removed]"
          },
          "metadata": {}
        }
      ]
    },
    {
      "cell_type": "code",
      "source": [
        "import scipy\n",
        "# normally distributed\n",
        "scipy.stats.normaltest(recognised.bpc.values)"
      ],
      "metadata": {
        "colab": {
          "base_uri": "https://localhost:8080/"
        },
        "id": "MzwVm0QKfrHQ",
        "outputId": "479a8d07-93c0-43a6-99d6-9881760b6f07"
      },
      "execution_count": 20,
      "outputs": [
        {
          "output_type": "execute_result",
          "data": {
            "text/plain": [
              "NormaltestResult(statistic=721.6289587925319, pvalue=1.99646916684728e-157)"
            ]
          },
          "metadata": {},
          "execution_count": 20
        }
      ]
    },
    {
      "cell_type": "code",
      "source": [
        "recognised[recognised.ppl<=50].shape"
      ],
      "metadata": {
        "colab": {
          "base_uri": "https://localhost:8080/"
        },
        "id": "_0JvbN1-PsnA",
        "outputId": "bb9a8ed9-6c30-4cfb-bb52-021126a0adfd"
      },
      "execution_count": 21,
      "outputs": [
        {
          "output_type": "execute_result",
          "data": {
            "text/plain": [
              "(2994, 9)"
            ]
          },
          "metadata": {},
          "execution_count": 21
        }
      ]
    },
    {
      "cell_type": "code",
      "source": [
        "recognised[recognised.bpc<(4.22 + 2*0.78)].shape"
      ],
      "metadata": {
        "colab": {
          "base_uri": "https://localhost:8080/"
        },
        "id": "m7VHTTcQRUD1",
        "outputId": "74ce6132-d4f6-47c6-adc5-94f4855d2726"
      },
      "execution_count": 22,
      "outputs": [
        {
          "output_type": "execute_result",
          "data": {
            "text/plain": [
              "(3010, 9)"
            ]
          },
          "metadata": {},
          "execution_count": 22
        }
      ]
    },
    {
      "cell_type": "code",
      "source": [
        "sns.set_style(\"whitegrid\")\n",
        "ax = recognised.ppl.plot(figsize=(12,2));\n",
        "sns.despine(left=True, bottom=True);\n",
        "plt.tight_layout()\n",
        "ax.get_figure().savefig(\"ppl.pdf\", dpi=300, format=\"pdf\")"
      ],
      "metadata": {
        "colab": {
          "base_uri": "https://localhost:8080/",
          "height": 135
        },
        "id": "F_38WefVlnw2",
        "outputId": "67030a7f-f389-4632-8917-6999158c3e2f"
      },
      "execution_count": 23,
      "outputs": [
        {
          "output_type": "display_data",
          "data": {
            "text/plain": [
              "<Figure size 1200x200 with 1 Axes>"
            ],
            "image/png": "[encoded data removed]"
          },
          "metadata": {}
        }
      ]
    },
    {
      "cell_type": "code",
      "source": [
        "sns.set_style(\"whitegrid\")\n",
        "ax = recognised.bpc.plot(figsize=(12,2));\n",
        "sns.despine(left=True, bottom=True);\n",
        "plt.tight_layout()\n",
        "ax.get_figure().savefig(\"pbc.pdf\", dpi=300, format=\"pdf\")"
      ],
      "metadata": {
        "colab": {
          "base_uri": "https://localhost:8080/",
          "height": 135
        },
        "id": "ejhGz6nLR39c",
        "outputId": "2635d158-b686-4621-9715-332f1c6847c0"
      },
      "execution_count": 24,
      "outputs": [
        {
          "output_type": "display_data",
          "data": {
            "text/plain": [
              "<Figure size 1200x200 with 1 Axes>"
            ],
            "image/png": "[encoded data removed]"
          },
          "metadata": {}
        }
      ]
    },
    {
      "cell_type": "code",
      "source": [
        "recognised.to_csv(\"recognised.csv.gz\", index=False, compression=\"gzip\")"
      ],
      "metadata": {
        "id": "uKb4Obk_ncBD"
      },
      "execution_count": 25,
      "outputs": []
    },
    {
      "cell_type": "code",
      "source": [
        "recognised[recognised.ppl < recognised.ppl.quantile(.95)].to_csv('recognised_low-ppl.csv')"
      ],
      "metadata": {
        "id": "WJ1f8WtMSpXq"
      },
      "execution_count": 29,
      "outputs": []
    },
    {
      "cell_type": "markdown",
      "source": [
        "### Parsing the dates"
      ],
      "metadata": {
        "id": "bNzbRNKwmRsb"
      }
    },
    {
      "cell_type": "code",
      "source": [
        "#import pandas as pd\n",
        "#recognised = pd.read_csv(\"recognised.csv.gz\")"
      ],
      "metadata": {
        "id": "_KocHDlKm2pQ"
      },
      "execution_count": null,
      "outputs": []
    },
    {
      "cell_type": "code",
      "source": [
        "#!pip install googletrans==3.1.0a0\n",
        "from googletrans import Translator\n",
        "translator = Translator()\n",
        "print(translator.translate(\"Πέμπτη 16 Μαϊου\", src=\"el\", dest='en').text)"
      ],
      "metadata": {
        "colab": {
          "base_uri": "https://localhost:8080/"
        },
        "id": "27Kf5TLFlbeQ",
        "outputId": "1f4f2e1f-8869-48ac-81fa-88e67e88f07d"
      },
      "execution_count": null,
      "outputs": [
        {
          "output_type": "stream",
          "name": "stdout",
          "text": [
            "Thursday, May 16\n"
          ]
        }
      ]
    },
    {
      "cell_type": "code",
      "source": [
        "unique_dates = recognised[recognised.Date.notna()].Date.str.lower().unique()\n",
        "target = \"ρθ\"\n",
        "print([d for d in unique_dates if target in d])\n",
        "unique_dates = [d for d in unique_dates if target not in d]\n",
        "print(len(unique_dates))"
      ],
      "metadata": {
        "colab": {
          "base_uri": "https://localhost:8080/"
        },
        "id": "GDaHKEqBncMq",
        "outputId": "8c0e2c5a-924c-4cdf-84c4-a817dd1ab7c8"
      },
      "execution_count": null,
      "outputs": [
        {
          "output_type": "stream",
          "name": "stdout",
          "text": [
            "['ρθρα 1 καὶ 2', 'ρθρα 20 καὶ 21', 'ρθρου 5 διαγράφονται 13', 'ρθρα 2 καὶ 6', 'ρθρου 1 τοῦ 1', 'ρθρων 68 καὶ 70', 'ρθρων 12 καὶ 84', 'ρθρα 68 καὶ 68', 'ρθρον 12 τὸ 1', 'ρθρων 4 καὶ 7', 'ρθρα 8 καὶ 6', 'ρθροις 1 καὶ 2', 'ρθρα 3 καὶ 4', 'ρθρον 12 παράγραφος 1', 'ρθρα 28 καὶ 24', 'καὶ 43 ἀρθρον 6.', 'ρθρα 7 καὶ 8', 'ρθρων 13 καὶ 27', 'παρόντος 4 ἀρθρον 1.', 'ρθρου 2 τοῦ 1.', 'ρθρα 4 καὶ 5', 'ρθροις 4 καὶ 22', 'ρθρων 56 καὶ 58.', 'ρθρα 4 καὶ 22', 'ρθρων 38 μετὰ 6', 'ρθρων 22 καὶ 2', 'ρθρων 4 καὶ 6', 'ρθρα 24 καὶ 25', 'ρθρον 24 β 1', 'ρθρων 24 καὶ 25.', 'ρθρων 24 καὶ 25', 'ρθρα 26 καὶ 27', 'ρθρα 10 καὶ 11.', 'ρθρα 16 καὶ 17', 'ρθρου 38 καὶ 39', 'ρθρου 1 τοῦ 591', 'ρθρων 245 καὶ 252', 'ρθρου 2 ἂρθρον 3.', 'ραν 6 ἂρθρον 10.', 'ρθρον 1 παράγραφος 1']\n",
            "486\n"
          ]
        }
      ]
    },
    {
      "cell_type": "code",
      "source": [
        "target = \"γράφ\"\n",
        "print([d for d in unique_dates if target in d])\n",
        "unique_dates = [d for d in unique_dates if target not in d]\n",
        "print(len(unique_dates))\n",
        "print([d for d in unique_dates if target in d])"
      ],
      "metadata": {
        "colab": {
          "base_uri": "https://localhost:8080/"
        },
        "id": "f2goD2MaqaS6",
        "outputId": "1cfd6324-f169-4aa7-88ec-e58873817a5d"
      },
      "execution_count": null,
      "outputs": [
        {
          "output_type": "stream",
          "name": "stdout",
          "text": [
            "['παραγράφοις 1 καὶ 8', 'παραγράφους 1 καὶ 2', 'παραγράφων 1 καὶ 2', 'παραγράφους 2 καὶ 8']\n",
            "482\n",
            "[]\n"
          ]
        }
      ]
    },
    {
      "cell_type": "code",
      "source": [
        "target = \"νόμ\"\n",
        "print([d for d in unique_dates if target in d])\n",
        "unique_dates = [d for d in unique_dates if target not in d]\n",
        "print(len(unique_dates))\n",
        "print([d for d in unique_dates if target in d])"
      ],
      "metadata": {
        "colab": {
          "base_uri": "https://localhost:8080/"
        },
        "id": "T3yIoug8rStl",
        "outputId": "70deaf99-8417-4aea-b294-89944553a5f1"
      },
      "execution_count": null,
      "outputs": [
        {
          "output_type": "stream",
          "name": "stdout",
          "text": [
            "['νόμου 1487 τοῦ 1', 'νόμος 1887 τοῦ 1986', 'νόμοι 4506 τοῦ 1930', 'νόμου 24 τοῦ 1944', 'νόμός 272 τῆς 15', 'νόμου 177 τοῦ 1945', 'νόμου 41 τοῦ 1946', 'νόμων 886 τοῦ 1937', 'νόμον 60 τοῦ 1946', 'νόμου 1055 τοῦ 1946', 'νόμος 92 τοῦ 4', 'νόμου 19 τοῦ 1944', 'νόμου 3752 τοῦ 1920', 'νόμων 2946 καὶ 132', 'νόμον 141 τοῦ 1946', 'νόμου 1234 τοῦ 1918.', 'νόμος 1204 τοῦ 1918', 'νόμου 5814 τοῦ 1933']\n",
            "464\n",
            "[]\n"
          ]
        }
      ]
    },
    {
      "cell_type": "code",
      "source": [
        "# going for lming\n",
        "udates = pd.DataFrame({\"date\": unique_dates})\n",
        "udates[\"ppl\"] = udates.date.apply(clm.ppl)"
      ],
      "metadata": {
        "id": "Iq8np5fhrtpY"
      },
      "execution_count": null,
      "outputs": []
    },
    {
      "cell_type": "code",
      "source": [
        "udates[udates.ppl>80].sample(10)"
      ],
      "metadata": {
        "colab": {
          "base_uri": "https://localhost:8080/",
          "height": 363
        },
        "id": "WuukKui37xxC",
        "outputId": "78356259-1ab6-4715-f570-7ce8c921ce1c"
      },
      "execution_count": null,
      "outputs": [
        {
          "output_type": "execute_result",
          "data": {
            "text/plain": [
              "                      date         ppl\n",
              "317             πὸ 2 καὶ 8   93.134042\n",
              "139            χ 1 κπ 111.  135.000000\n",
              "230     οωωαωα  1    μμμ 1  135.000000\n",
              "169            ο 1 μίος 61  135.000000\n",
              "449             χει 7 μὲ 8  135.000000\n",
              "242        ρ 68 αρόοίο 28.  135.000000\n",
              "359          πρεηθν 33 κ 3  135.000000\n",
              "379  τους 1943 θανόντα 189   89.433371\n",
              "412             ῦυ 32 οῦ 3  135.000000\n",
              "102      1ε 10 ρόντει 1946  102.038780"
            ],
            "text/html": [
              "\n",
              "  <div id=\"df-1f54b969-0b22-4090-b6b2-d7d6849d7da5\">\n",
              "    <div class=\"colab-df-container\">\n",
              "      <div>\n",
              "<style scoped>\n",
              "    .dataframe tbody tr th:only-of-type {\n",
              "        vertical-align: middle;\n",
              "    }\n",
              "\n",
              "    .dataframe tbody tr th {\n",
              "        vertical-align: top;\n",
              "    }\n",
              "\n",
              "    .dataframe thead th {\n",
              "        text-align: right;\n",
              "    }\n",
              "</style>\n",
              "<table border=\"1\" class=\"dataframe\">\n",
              "  <thead>\n",
              "    <tr style=\"text-align: right;\">\n",
              "      <th></th>\n",
              "      <th>date</th>\n",
              "      <th>ppl</th>\n",
              "    </tr>\n",
              "  </thead>\n",
              "  <tbody>\n",
              "    <tr>\n",
              "      <th>317</th>\n",
              "      <td>πὸ 2 καὶ 8</td>\n",
              "      <td>93.134042</td>\n",
              "    </tr>\n",
              "    <tr>\n",
              "      <th>139</th>\n",
              "      <td>χ 1 κπ 111.</td>\n",
              "      <td>135.000000</td>\n",
              "    </tr>\n",
              "    <tr>\n",
              "      <th>230</th>\n",
              "      <td>οωωαωα  1    μμμ 1</td>\n",
              "      <td>135.000000</td>\n",
              "    </tr>\n",
              "    <tr>\n",
              "      <th>169</th>\n",
              "      <td>ο 1 μίος 61</td>\n",
              "      <td>135.000000</td>\n",
              "    </tr>\n",
              "    <tr>\n",
              "      <th>449</th>\n",
              "      <td>χει 7 μὲ 8</td>\n",
              "      <td>135.000000</td>\n",
              "    </tr>\n",
              "    <tr>\n",
              "      <th>242</th>\n",
              "      <td>ρ 68 αρόοίο 28.</td>\n",
              "      <td>135.000000</td>\n",
              "    </tr>\n",
              "    <tr>\n",
              "      <th>359</th>\n",
              "      <td>πρεηθν 33 κ 3</td>\n",
              "      <td>135.000000</td>\n",
              "    </tr>\n",
              "    <tr>\n",
              "      <th>379</th>\n",
              "      <td>τους 1943 θανόντα 189</td>\n",
              "      <td>89.433371</td>\n",
              "    </tr>\n",
              "    <tr>\n",
              "      <th>412</th>\n",
              "      <td>ῦυ 32 οῦ 3</td>\n",
              "      <td>135.000000</td>\n",
              "    </tr>\n",
              "    <tr>\n",
              "      <th>102</th>\n",
              "      <td>1ε 10 ρόντει 1946</td>\n",
              "      <td>102.038780</td>\n",
              "    </tr>\n",
              "  </tbody>\n",
              "</table>\n",
              "</div>\n",
              "      <button class=\"colab-df-convert\" onclick=\"convertToInteractive('df-1f54b969-0b22-4090-b6b2-d7d6849d7da5')\"\n",
              "              title=\"Convert this dataframe to an interactive table.\"\n",
              "              style=\"display:none;\">\n",
              "        \n",
              "  <svg xmlns=\"http://www.w3.org/2000/svg\" height=\"24px\"viewBox=\"0 0 24 24\"\n",
              "       width=\"24px\">\n",
              "    <path d=\"M0 0h24v24H0V0z\" fill=\"none\"/>\n",
              "    <path d=\"M18.56 5.44l.94 2.06.94-2.06 2.06-.94-2.06-.94-.94-2.06-.94 2.06-2.06.94zm-11 1L8.5 8.5l.94-2.06 2.06-.94-2.06-.94L8.5 2.5l-.94 2.06-2.06.94zm10 10l.94 2.06.94-2.06 2.06-.94-2.06-.94-.94-2.06-.94 2.06-2.06.94z\"/><path d=\"M17.41 7.96l-1.37-1.37c-.4-.4-.92-.59-1.43-.59-.52 0-1.04.2-1.43.59L10.3 9.45l-7.72 7.72c-.78.78-.78 2.05 0 2.83L4 21.41c.39.39.9.59 1.41.59.51 0 1.02-.2 1.41-.59l7.78-7.78 2.81-2.81c.8-.78.8-2.07 0-2.86zM5.41 20L4 18.59l7.72-7.72 1.47 1.35L5.41 20z\"/>\n",
              "  </svg>\n",
              "      </button>\n",
              "      \n",
              "  <style>\n",
              "    .colab-df-container {\n",
              "      display:flex;\n",
              "      flex-wrap:wrap;\n",
              "      gap: 12px;\n",
              "    }\n",
              "\n",
              "    .colab-df-convert {\n",
              "      background-color: #E8F0FE;\n",
              "      border: none;\n",
              "      border-radius: 50%;\n",
              "      cursor: pointer;\n",
              "      display: none;\n",
              "      fill: #1967D2;\n",
              "      height: 32px;\n",
              "      padding: 0 0 0 0;\n",
              "      width: 32px;\n",
              "    }\n",
              "\n",
              "    .colab-df-convert:hover {\n",
              "      background-color: #E2EBFA;\n",
              "      box-shadow: 0px 1px 2px rgba(60, 64, 67, 0.3), 0px 1px 3px 1px rgba(60, 64, 67, 0.15);\n",
              "      fill: #174EA6;\n",
              "    }\n",
              "\n",
              "    [theme=dark] .colab-df-convert {\n",
              "      background-color: #3B4455;\n",
              "      fill: #D2E3FC;\n",
              "    }\n",
              "\n",
              "    [theme=dark] .colab-df-convert:hover {\n",
              "      background-color: #434B5C;\n",
              "      box-shadow: 0px 1px 3px 1px rgba(0, 0, 0, 0.15);\n",
              "      filter: drop-shadow(0px 1px 2px rgba(0, 0, 0, 0.3));\n",
              "      fill: #FFFFFF;\n",
              "    }\n",
              "  </style>\n",
              "\n",
              "      <script>\n",
              "        const buttonEl =\n",
              "          document.querySelector('#df-1f54b969-0b22-4090-b6b2-d7d6849d7da5 button.colab-df-convert');\n",
              "        buttonEl.style.display =\n",
              "          google.colab.kernel.accessAllowed ? 'block' : 'none';\n",
              "\n",
              "        async function convertToInteractive(key) {\n",
              "          const element = document.querySelector('#df-1f54b969-0b22-4090-b6b2-d7d6849d7da5');\n",
              "          const dataTable =\n",
              "            await google.colab.kernel.invokeFunction('convertToInteractive',\n",
              "                                                     [key], {});\n",
              "          if (!dataTable) return;\n",
              "\n",
              "          const docLinkHtml = 'Like what you see? Visit the ' +\n",
              "            '<a target=\"_blank\" href=https://colab.research.google.com/notebooks/data_table.ipynb>data table notebook</a>'\n",
              "            + ' to learn more about interactive tables.';\n",
              "          element.innerHTML = '';\n",
              "          dataTable['output_type'] = 'display_data';\n",
              "          await google.colab.output.renderOutput(dataTable, element);\n",
              "          const docLink = document.createElement('div');\n",
              "          docLink.innerHTML = docLinkHtml;\n",
              "          element.appendChild(docLink);\n",
              "        }\n",
              "      </script>\n",
              "    </div>\n",
              "  </div>\n",
              "  "
            ]
          },
          "metadata": {},
          "execution_count": 50
        }
      ]
    },
    {
      "cell_type": "code",
      "source": [
        "udates.shape"
      ],
      "metadata": {
        "colab": {
          "base_uri": "https://localhost:8080/"
        },
        "id": "W-p_ie3g9lyC",
        "outputId": "22400830-4181-43a8-870b-649edbd48c78"
      },
      "execution_count": null,
      "outputs": [
        {
          "output_type": "execute_result",
          "data": {
            "text/plain": [
              "(413, 2)"
            ]
          },
          "metadata": {},
          "execution_count": 60
        }
      ]
    },
    {
      "cell_type": "code",
      "source": [
        "udates = udates[udates.ppl<80]\n",
        "udates.to_excel(\"unique_dates.xlsx\")"
      ],
      "metadata": {
        "id": "lWNlVtj28kTU"
      },
      "execution_count": null,
      "outputs": []
    },
    {
      "cell_type": "code",
      "source": [
        "def to_en(date):\n",
        "  try:\n",
        "    return translator.translate(date, src=\"el\", dest='en').text\n",
        "  except:\n",
        "    return None\n",
        "\n",
        "dates = recognised.Date.apply(to_en)"
      ],
      "metadata": {
        "id": "qXpbI5L1nNjG"
      },
      "execution_count": null,
      "outputs": []
    },
    {
      "cell_type": "code",
      "source": [
        "# recognised.Date.ffill().apply(pd.to_datetime)"
      ],
      "metadata": {
        "id": "bboPJIDQj8WW"
      },
      "execution_count": null,
      "outputs": []
    },
    {
      "cell_type": "markdown",
      "source": [
        "### NER"
      ],
      "metadata": {
        "id": "9HrFJ1RTmOQ8"
      }
    },
    {
      "cell_type": "code",
      "source": [
        "NER = spacy.load(\"el_core_news_lg\")\n",
        "recogniser = lambda text, label=\"PERSON\": [word.text for word in NER(text).ents if word.label_==label]"
      ],
      "metadata": {
        "id": "9V-ThCtfns9p"
      },
      "execution_count": null,
      "outputs": []
    },
    {
      "cell_type": "code",
      "source": [
        "persons = recognised.text.apply(recogniser)\n",
        "recognised[\"persons\"] = persons"
      ],
      "metadata": {
        "id": "kmTWJrmXpR-b"
      },
      "execution_count": null,
      "outputs": []
    },
    {
      "cell_type": "code",
      "source": [],
      "metadata": {
        "id": "bBDoOmihCPRu"
      },
      "execution_count": null,
      "outputs": []
    }
  ]
}